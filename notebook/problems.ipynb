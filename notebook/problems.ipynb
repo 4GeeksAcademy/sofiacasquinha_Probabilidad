{
 "cells": [
  {
   "cell_type": "markdown",
   "id": "a41f3622",
   "metadata": {},
   "source": [
    "# Probability exercises"
   ]
  },
  {
   "cell_type": "markdown",
   "id": "a6bdbd89",
   "metadata": {},
   "source": [
    "## Exercise 1 \n",
    "\n",
    "Two dices are thrown once and the total score is observed. Use a simulation to find the estimated probability that the total score is even or greater than 7.  A simulation is a repetition of the same experiment multiple times to observe its behavior:\n",
    "\n",
    "- Run the experiment 1000 times (roll 2 dice 1000 times, and sum the number of both dices).\n",
    "- Keep track of the number of times that the sum was either greater than 7 or an even number.\n",
    "- Divide the number from step 2 by the number of iterations (1000)."
   ]
  },
  {
   "cell_type": "code",
   "execution_count": null,
   "id": "c55f9241",
   "metadata": {},
   "outputs": [
    {
     "name": "stdout",
     "output_type": "stream",
     "text": [
      "0.664\n"
     ]
    }
   ],
   "source": [
    "import random\n",
    "\n",
    "sims = 1000\n",
    "casos_favorables = 0\n",
    "\n",
    "for _ in range(sims):\n",
    "    die1 = random.randint(1,6)\n",
    "    die2 = random.randint(1,6)\n",
    "    total = die1 + die2\n",
    "\n",
    "    if (total % 2 == 0) or (total > 7):\n",
    "        casos_favorables += 1\n",
    "\n",
    "prob = casos_favorables / sims\n",
    "\n",
    "print(prob)\n",
    "\n",
    "\n"
   ]
  },
  {
   "cell_type": "code",
   "execution_count": 1,
   "id": "8939d892",
   "metadata": {},
   "outputs": [],
   "source": [
    "# TODO"
   ]
  },
  {
   "cell_type": "markdown",
   "id": "55732bca",
   "metadata": {},
   "source": [
    "## Exercise 2\n",
    "\n",
    "A box contains 10 white balls, 20 red balls and 30 green balls. If we take 5 balls from the box with replacement (we take the ball, observe what color it is and put it back into the box). We want to know the probability of:\n",
    "\n",
    "1. Take 3 white and 2 red.\n",
    "2. Take all of the same color.\n",
    "\n",
    "Run the experiment 1000 times and calculate the above probabilities."
   ]
  },
  {
   "cell_type": "code",
   "execution_count": null,
   "id": "23244d20",
   "metadata": {},
   "outputs": [
    {
     "name": "stdout",
     "output_type": "stream",
     "text": [
      "0.002\n",
      "0.032\n"
     ]
    }
   ],
   "source": [
    "ball_box = {}\n",
    "\n",
    "# Create the box of balls\n",
    "for i in range(60):\n",
    "    if i < 10:\n",
    "        ball_box[i] = \"White\"\n",
    "    elif (i > 9) and (i < 30):\n",
    "        ball_box[i] = \"Red\"\n",
    "    else:\n",
    "        ball_box[i] = \"Green\"\n",
    "\n",
    "########\n",
    "\n",
    "sims = 1000\n",
    "casos_favoráveis1 = 0 # 3 white e 2 red\n",
    "casos_favoráveis2 = 0 # todas mesma cor\n",
    "\n",
    "for _ in range(sims):\n",
    "    bolas = []\n",
    "    for _ in range(5):\n",
    "        índice_bola = random.randint(0,59)\n",
    "        cor = ball_box[índice_bola]\n",
    "        bolas.append(cor)\n",
    "\n",
    "    #Condição 1\n",
    "    número_brancas = bolas.count(\"White\")\n",
    "    número_vermelhas = bolas.count(\"Red\")\n",
    "\n",
    "    if (número_brancas == 3) and (número_vermelhas == 2):\n",
    "        casos_favoráveis1 += 1\n",
    "    \n",
    "    #Condição 2\n",
    "\n",
    "    if bolas[0] == bolas[1] == bolas[2] == bolas[3] == bolas[4]:\n",
    "        casos_favoráveis2 += 1\n",
    "\n",
    "\n",
    "prob1 = casos_favoráveis1 / sims\n",
    "prob2 = casos_favoráveis2 / sims\n",
    "\n",
    "print(prob1)\n",
    "print(prob2)\n",
    "\n",
    "\n",
    "            \n",
    "# TODO"
   ]
  }
 ],
 "metadata": {
  "kernelspec": {
   "display_name": "Python 3",
   "language": "python",
   "name": "python3"
  },
  "language_info": {
   "codemirror_mode": {
    "name": "ipython",
    "version": 3
   },
   "file_extension": ".py",
   "mimetype": "text/x-python",
   "name": "python",
   "nbconvert_exporter": "python",
   "pygments_lexer": "ipython3",
   "version": "3.11.4"
  }
 },
 "nbformat": 4,
 "nbformat_minor": 5
}
